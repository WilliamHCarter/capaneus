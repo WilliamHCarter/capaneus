{
 "cells": [
  {
   "cell_type": "code",
   "execution_count": 17,
   "metadata": {},
   "outputs": [],
   "source": [
    "import numpy as np\n",
    "import os \n",
    "import torch\n",
    "import torch\n",
    "import pandas as pd\n",
    "from torch import nn\n",
    "from torch.utils.data import DataLoader\n",
    "from torchvision import datasets\n",
    "from torchvision.transforms import ToTensor\n",
    "import torchvision.transforms as transforms\n",
    "from PIL import Image\n",
    "from torch.utils.data import Dataset\n",
    "from sklearn.metrics import confusion_matrix\n",
    "from sklearn.model_selection import train_test_split\n",
    "import json"
   ]
  },
  {
   "cell_type": "code",
   "execution_count": 3,
   "metadata": {},
   "outputs": [],
   "source": [
    "xdim = {'A': 1, 'B': 2, 'C': 3, 'D': 4, 'E': 5, 'F': 6, 'G': 7, 'H': 8, 'I': 9, 'J': 10, 'K': 11}\n",
    "ydim = [i for i in range(19, 0, -1)]\n",
    "# print(xdim)\n",
    "# print(ydim)\n",
    "def get_hold_coords(hold, xdim = xdim, ydim = ydim):\n",
    "    col = xdim[hold[0]] -1\n",
    "    row = ydim[int(hold[1:])] - 1\n",
    "    return (row, col)"
   ]
  },
  {
   "cell_type": "code",
   "execution_count": 4,
   "metadata": {},
   "outputs": [
    {
     "name": "stdout",
     "output_type": "stream",
     "text": [
      "542\n",
      "Method                                                      Feet follow hands\n",
      "Name                                                         ONE ARMED BANDIT\n",
      "Grade                                                                      8A\n",
      "UserGrade                                                                  8A\n",
      "MoonBoardConfiguration                                                    NaN\n",
      "MoonBoardConfigurationId                                                    0\n",
      "Setter                      {'Id': '89b67a5a-62d2-46df-95d6-4a5e25b0c361',...\n",
      "FirstAscender                                                           False\n",
      "Rating                                                                      0\n",
      "UserRating                                                                  5\n",
      "Repeats                                                                     0\n",
      "Attempts                                                                    0\n",
      "Holdsetup                   {'Id': 1, 'Description': 'MoonBoard 2016', 'Se...\n",
      "IsBenchmark                                                              True\n",
      "IsMaster                                                                False\n",
      "IsAssessmentProblem                                                     False\n",
      "ProblemType                                                               NaN\n",
      "Moves                       [{'Id': 2018503, 'Description': 'E13', 'IsStar...\n",
      "Holdsets                    [{'Id': 0, 'Description': 'Original School Hol...\n",
      "Locations                   [{'Id': 0, 'Holdset': None, 'Description': 'A1...\n",
      "RepeatText                                                                NaN\n",
      "NumberOfTries                                                             NaN\n",
      "NameForUrl                                                   one-armed-bandit\n",
      "Upgraded                                                                False\n",
      "Downgraded                                                              False\n",
      "Id                                                                     354762\n",
      "ApiId                                                                       0\n",
      "DateInserted                                            /Date(1572472915233)/\n",
      "DateUpdated                                                               NaN\n",
      "DateDeleted                                                               NaN\n",
      "DateTimeString                                              30 Oct 2019 22:01\n",
      "Name: 10, dtype: object\n",
      "[{'Id': 2018503, 'Description': 'E13', 'IsStart': False, 'IsEnd': False}, {'Id': 2018504, 'Description': 'A16', 'IsStart': False, 'IsEnd': False}, {'Id': 2018505, 'Description': 'C18', 'IsStart': False, 'IsEnd': True}, {'Id': 2018506, 'Description': 'H12', 'IsStart': False, 'IsEnd': False}, {'Id': 2018507, 'Description': 'J2', 'IsStart': True, 'IsEnd': False}, {'Id': 2018508, 'Description': 'K6', 'IsStart': True, 'IsEnd': False}, {'Id': 2018509, 'Description': 'K9', 'IsStart': False, 'IsEnd': False}]\n"
     ]
    }
   ],
   "source": [
    "moonboard_2016_filename = \"../data/mb_problem_holds.csv\"\n",
    "moonboard_2016_size = (18,11)\n",
    "df = pd.read_csv(moonboard_2016_filename)\n",
    "print(len(df))\n",
    "climb = df.iloc[10]\n",
    "print(climb)\n",
    "print(climb['Moves'])\n"
   ]
  },
  {
   "cell_type": "code",
   "execution_count": 14,
   "metadata": {},
   "outputs": [],
   "source": [
    "# #Split Data\n",
    "# def split_csv_and_save(input_file, output_dir, train_size=0.8, random_state=None):\n",
    "#     # Create the output directory if it doesn't exist\n",
    "#     if not os.path.exists(output_dir):\n",
    "#         os.makedirs(output_dir)\n",
    "    \n",
    "#     # Read the CSV file\n",
    "#     data = pd.read_csv(input_file)\n",
    "    \n",
    "#     # Split the data into train and test sets\n",
    "#     train_data, test_data = train_test_split(data, train_size=train_size, random_state=random_state)\n",
    "    \n",
    "#     # Define the paths for train and test files\n",
    "#     train_file = os.path.join(output_dir, \"train.csv\")\n",
    "#     test_file = os.path.join(output_dir, \"test.csv\")\n",
    "    \n",
    "#     # Save train and test data to CSV files\n",
    "#     train_data.to_csv(train_file, index=False)\n",
    "#     test_data.to_csv(test_file, index=False)\n",
    "\n",
    "# # Example usage\n",
    "# moonboard_2016_filename = \"../data/mb_problem_holds.csv\"\n",
    "# output_directory = \"../modeldata/splits\"\n",
    "# split_csv_and_save(moonboard_2016_filename, output_directory, train_size=0.8, random_state=42)"
   ]
  },
  {
   "cell_type": "code",
   "execution_count": 24,
   "metadata": {},
   "outputs": [
    {
     "data": {
      "text/plain": [
       "(array([[0., 0., 0., 1., 0., 0., 0., 0., 0., 0., 0.],\n",
       "        [0., 0., 0., 0., 0., 0., 1., 0., 0., 0., 0.],\n",
       "        [0., 0., 0., 0., 0., 0., 0., 0., 0., 0., 0.],\n",
       "        [0., 0., 0., 0., 0., 0., 0., 0., 0., 0., 0.],\n",
       "        [0., 0., 0., 0., 0., 1., 0., 0., 0., 0., 1.],\n",
       "        [0., 0., 0., 0., 0., 0., 0., 0., 0., 0., 0.],\n",
       "        [0., 0., 0., 0., 0., 0., 0., 0., 0., 0., 0.],\n",
       "        [0., 0., 0., 0., 0., 0., 0., 0., 0., 0., 0.],\n",
       "        [0., 0., 0., 0., 1., 0., 0., 0., 0., 0., 0.],\n",
       "        [0., 0., 0., 0., 0., 0., 0., 0., 1., 0., 0.],\n",
       "        [0., 0., 0., 0., 0., 0., 0., 0., 0., 1., 0.],\n",
       "        [0., 0., 0., 0., 0., 0., 0., 0., 0., 0., 0.],\n",
       "        [0., 0., 0., 0., 0., 0., 0., 0., 0., 0., 0.],\n",
       "        [0., 0., 0., 0., 0., 0., 0., 1., 0., 0., 0.],\n",
       "        [0., 0., 0., 0., 0., 0., 0., 0., 0., 0., 0.],\n",
       "        [0., 0., 0., 0., 0., 0., 0., 0., 0., 0., 0.],\n",
       "        [0., 0., 0., 0., 0., 0., 0., 0., 0., 1., 0.],\n",
       "        [0., 0., 0., 0., 0., 0., 0., 0., 0., 0., 0.]]),\n",
       " 2)"
      ]
     },
     "execution_count": 24,
     "metadata": {},
     "output_type": "execute_result"
    }
   ],
   "source": [
    "french_grade_order = ['4', '5', '5+', '6A', '6A+', '6B', '6B+', '6C', '6C+', '7A', '7A+',\n",
    "                       '7B', '7B+', '7C', '7C+', '8A', '8A+', '8B', '8B+']\n",
    "grade_bounds = ('6B+', '8A')\n",
    "scale_min = french_grade_order.index(grade_bounds[0])\n",
    "scale_max = french_grade_order.index(grade_bounds[1])\n",
    "scale_bounds = (scale_min, scale_max)\n",
    "scale_size = scale_max - scale_min\n",
    "\n",
    "class ClimbDataset(Dataset):\n",
    "    def __init__(self, climbs_filename, board_size, scale_bounds):\n",
    "        self.climb_df = pd.read_csv(climbs_filename)\n",
    "        self.board_size = board_size\n",
    "        self.scale_min = scale_bounds[0]\n",
    "        self.scale_max = scale_bounds[1]\n",
    "        self.scale_size = self.scale_max - self.scale_min\n",
    "        \n",
    "    def __len__(self):\n",
    "        return len(self.df)\n",
    "    \n",
    "    def __getitem__(self, idx):\n",
    "        climb = self.climb_df.iloc[idx]\n",
    "        grade = climb['Grade']\n",
    "        moves = climb['Moves']\n",
    "        moves = moves.replace(\"'\", '\"')\n",
    "        moves = moves.replace(\"True\", 'true')\n",
    "        moves = moves.replace(\"False\", 'false')\n",
    "        moves = json.loads(moves)\n",
    "        holds = np.zeros(self.board_size)\n",
    "        for hold in moves:\n",
    "            x, y = get_hold_coords(hold['Description'])\n",
    "            holds[x, y] = 1\n",
    "        curr_grade_ind = french_grade_order.index(grade)\n",
    "        if self.scale_min > curr_grade_ind :\n",
    "            grade_num = 0\n",
    "        elif self.scale_max < curr_grade_ind :\n",
    "            grade_num = self.scale_max - self.scale_min\n",
    "        else:\n",
    "            grade_num = curr_grade_ind - self.scale_min\n",
    "\n",
    "        return holds, grade_num\n",
    "\n",
    "train_dataset = ClimbDataset(\"../modeldata/splits/train.csv\", moonboard_2016_size, scale_bounds)\n",
    "test_dataset = ClimbDataset(\"../modeldata/splits/test.csv\", moonboard_2016_size, scale_bounds)\n",
    "train_dataset.__getitem__(5)"
   ]
  },
  {
   "cell_type": "code",
   "execution_count": 25,
   "metadata": {},
   "outputs": [
    {
     "ename": "SyntaxError",
     "evalue": "invalid syntax (1503634655.py, line 9)",
     "output_type": "error",
     "traceback": [
      "\u001b[0;36m  Cell \u001b[0;32mIn[25], line 9\u001b[0;36m\u001b[0m\n\u001b[0;31m    output_size =\u001b[0m\n\u001b[0m                  ^\u001b[0m\n\u001b[0;31mSyntaxError\u001b[0m\u001b[0;31m:\u001b[0m invalid syntax\n"
     ]
    }
   ],
   "source": [
    "import torch.nn as nn\n",
    "import torch.nn.functional as F\n",
    "\n",
    "\n",
    "device = \"cuda\" if torch.cuda.is_available() else \"cpu\"\n",
    "print(f\"Using {device} device\")\n",
    "\n",
    "input_size = moonboard_2016_size[0] * moonboard_2016_size[1]\n",
    "output_size = scale_size\n",
    "class NeuralNetwork_Orig(nn.Module):\n",
    "    def __init__(self):\n",
    "        super(NeuralNetwork_Orig, self).__init__()\n",
    "        self.flatten = nn.Flatten()\n",
    "        self.linear_relu_stack = nn.Sequential(\n",
    "            nn.Linear(input_size, 128),\n",
    "            nn.ReLU(),\n",
    "            nn.Linear(128, 128),\n",
    "            nn.ReLU(),\n",
    "            nn.Linear(128, 128),\n",
    "            nn.ReLU(),\n",
    "            nn.Linear(128, scale_size),\n",
    "        )\n",
    "\n",
    "    def forward(self, x):\n",
    "        x = self.flatten(x)\n",
    "        logits = self.linear_relu_stack(x)\n",
    "        return logits"
   ]
  }
 ],
 "metadata": {
  "kernelspec": {
   "display_name": "Python 3",
   "language": "python",
   "name": "python3"
  },
  "language_info": {
   "codemirror_mode": {
    "name": "ipython",
    "version": 3
   },
   "file_extension": ".py",
   "mimetype": "text/x-python",
   "name": "python",
   "nbconvert_exporter": "python",
   "pygments_lexer": "ipython3",
   "version": "3.9.6"
  }
 },
 "nbformat": 4,
 "nbformat_minor": 2
}
